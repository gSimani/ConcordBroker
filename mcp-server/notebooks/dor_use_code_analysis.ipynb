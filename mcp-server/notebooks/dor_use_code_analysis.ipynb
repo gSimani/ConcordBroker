{
 "cells": [
  {
   "cell_type": "markdown",
   "metadata": {},
   "source": [
    "# DOR Use Code Assignment Analysis\n",
    "## Comprehensive Analysis of 9.1M Florida Properties\n",
    "\n",
    "This notebook provides:\n",
    "- Current use code coverage analysis\n",
    "- Distribution visualizations\n",
    "- Assignment validation\n",
    "- Quality metrics\n",
    "- County-level breakdowns"
   ]
  },
  {
   "cell_type": "code",
   "execution_count": null,
   "metadata": {},
   "outputs": [],
   "source": [
    "# Import required libraries\n",
    "import pandas as pd\n",
    "import numpy as np\n",
    "import matplotlib.pyplot as plt\n",
    "import seaborn as sns\n",
    "from sqlalchemy import create_engine, text\n",
    "import os\n",
    "from datetime import datetime\n",
    "import warnings\n",
    "warnings.filterwarnings('ignore')\n",
    "\n",
    "# Set display options\n",
    "pd.set_option('display.max_columns', None)\n",
    "pd.set_option('display.max_rows', 100)\n",
    "pd.set_option('display.float_format', '{:.2f}'.format)\n",
    "\n",
    "# Styling\n",
    "sns.set_style('whitegrid')\n",
    "plt.rcParams['figure.figsize'] = (14, 8)\n",
    "\n",
    "print(\"✅ Libraries imported successfully\")"
   ]
  },
  {
   "cell_type": "code",
   "execution_count": null,
   "metadata": {},
   "outputs": [],
   "source": [
    "# Connect to Supabase\n",
    "SUPABASE_URL = os.getenv('SUPABASE_URL')\n",
    "SUPABASE_KEY = os.getenv('SUPABASE_SERVICE_ROLE_KEY')\n",
    "\n",
    "if not SUPABASE_URL or not SUPABASE_KEY:\n",
    "    raise Exception(\"Missing Supabase credentials. Set SUPABASE_URL and SUPABASE_SERVICE_ROLE_KEY\")\n",
    "\n",
    "db_url = SUPABASE_URL.replace('https://', '')\n",
    "connection_string = f\"postgresql://postgres.{db_url.split('.')[1]}:{SUPABASE_KEY}@{db_url}:5432/postgres\"\n",
    "\n",
    "engine = create_engine(connection_string, pool_size=10)\n",
    "print(\"✅ Connected to Supabase database\")"
   ]
  },
  {
   "cell_type": "markdown",
   "metadata": {},
   "source": [
    "## 1. Overall Status Analysis"
   ]
  },
  {
   "cell_type": "code",
   "execution_count": null,
   "metadata": {},
   "outputs": [],
   "source": [
    "# Get overall statistics\n",
    "query = \"\"\"\n",
    "SELECT\n",
    "    COUNT(*) as total_properties,\n",
    "    COUNT(CASE WHEN dor_uc IS NOT NULL AND dor_uc != '' THEN 1 END) as with_code,\n",
    "    COUNT(CASE WHEN dor_uc IS NULL OR dor_uc = '' THEN 1 END) as without_code,\n",
    "    ROUND(COUNT(CASE WHEN dor_uc IS NOT NULL AND dor_uc != '' THEN 1 END)::numeric / COUNT(*) * 100, 2) as coverage_pct\n",
    "FROM florida_parcels\n",
    "WHERE year = 2025\n",
    "\"\"\"\n",
    "\n",
    "overall_stats = pd.read_sql(query, engine)\n",
    "print(\"📊 OVERALL DOR USE CODE STATUS\")\n",
    "print(\"=\" * 60)\n",
    "print(f\"Total Properties: {overall_stats['total_properties'].iloc[0]:,}\")\n",
    "print(f\"With DOR Code: {overall_stats['with_code'].iloc[0]:,}\")\n",
    "print(f\"Without DOR Code: {overall_stats['without_code'].iloc[0]:,}\")\n",
    "print(f\"Coverage: {overall_stats['coverage_pct'].iloc[0]:.2f}%\")\n",
    "print(\"=\" * 60)"
   ]
  },
  {
   "cell_type": "code",
   "execution_count": null,
   "metadata": {},
   "outputs": [],
   "source": [
    "# Visualize coverage\n",
    "fig, ax = plt.subplots(1, 2, figsize=(14, 6))\n",
    "\n",
    "# Pie chart\n",
    "labels = ['With DOR Code', 'Without DOR Code']\n",
    "sizes = [overall_stats['with_code'].iloc[0], overall_stats['without_code'].iloc[0]]\n",
    "colors = ['#4CAF50', '#FF5252']\n",
    "explode = (0.05, 0)\n",
    "\n",
    "ax[0].pie(sizes, explode=explode, labels=labels, colors=colors, autopct='%1.1f%%',\n",
    "          shadow=True, startangle=90)\n",
    "ax[0].set_title('DOR Use Code Coverage', fontsize=14, fontweight='bold')\n",
    "\n",
    "# Bar chart\n",
    "ax[1].bar(labels, sizes, color=colors)\n",
    "ax[1].set_ylabel('Number of Properties', fontsize=12)\n",
    "ax[1].set_title('Properties by Assignment Status', fontsize=14, fontweight='bold')\n",
    "ax[1].ticklabel_format(style='plain', axis='y')\n",
    "\n",
    "for i, v in enumerate(sizes):\n",
    "    ax[1].text(i, v, f'{v:,}', ha='center', va='bottom', fontsize=10)\n",
    "\n",
    "plt.tight_layout()\n",
    "plt.show()"
   ]
  },
  {
   "cell_type": "markdown",
   "metadata": {},
   "source": [
    "## 2. Use Code Distribution Analysis"
   ]
  },
  {
   "cell_type": "code",
   "execution_count": null,
   "metadata": {},
   "outputs": [],
   "source": [
    "# Get use code distribution\n",
    "query = \"\"\"\n",
    "SELECT\n",
    "    fp.dor_uc,\n",
    "    duc.use_description,\n",
    "    duc.category,\n",
    "    COUNT(*) as count,\n",
    "    ROUND(COUNT(*)::numeric / (SELECT COUNT(*) FROM florida_parcels WHERE year = 2025) * 100, 2) as percentage,\n",
    "    ROUND(AVG(fp.just_value)::numeric, 2) as avg_value,\n",
    "    SUM(fp.just_value) as total_value\n",
    "FROM florida_parcels fp\n",
    "LEFT JOIN dor_use_codes duc ON fp.dor_uc = duc.use_code\n",
    "WHERE fp.year = 2025 AND fp.dor_uc IS NOT NULL AND fp.dor_uc != ''\n",
    "GROUP BY fp.dor_uc, duc.use_description, duc.category\n",
    "ORDER BY count DESC\n",
    "LIMIT 30\n",
    "\"\"\"\n",
    "\n",
    "use_code_dist = pd.read_sql(query, engine)\n",
    "print(\"\\n📊 TOP 30 USE CODES\")\n",
    "print(use_code_dist.to_string(index=False))"
   ]
  },
  {
   "cell_type": "code",
   "execution_count": null,
   "metadata": {},
   "outputs": [],
   "source": [
    "# Visualize top use codes\n",
    "fig, ax = plt.subplots(figsize=(14, 8))\n",
    "\n",
    "top_20 = use_code_dist.head(20)\n",
    "colors = plt.cm.viridis(np.linspace(0, 1, len(top_20)))\n",
    "\n",
    "bars = ax.barh(range(len(top_20)), top_20['count'], color=colors)\n",
    "ax.set_yticks(range(len(top_20)))\n",
    "ax.set_yticklabels([f\"{row['dor_uc']} - {row['use_description'][:30]}\" \n",
    "                     for _, row in top_20.iterrows()], fontsize=9)\n",
    "ax.set_xlabel('Number of Properties', fontsize=12)\n",
    "ax.set_title('Top 20 DOR Use Codes by Property Count', fontsize=14, fontweight='bold')\n",
    "ax.invert_yaxis()\n",
    "\n",
    "# Add value labels\n",
    "for i, (bar, count) in enumerate(zip(bars, top_20['count'])):\n",
    "    ax.text(count, i, f' {count:,}', va='center', fontsize=8)\n",
    "\n",
    "plt.tight_layout()\n",
    "plt.show()"
   ]
  },
  {
   "cell_type": "markdown",
   "metadata": {},
   "source": [
    "## 3. Category Analysis"
   ]
  },
  {
   "cell_type": "code",
   "execution_count": null,
   "metadata": {},
   "outputs": [],
   "source": [
    "# Get category distribution\n",
    "query = \"\"\"\n",
    "SELECT\n",
    "    property_use_category,\n",
    "    COUNT(*) as count,\n",
    "    ROUND(COUNT(*)::numeric / (SELECT COUNT(*) FROM florida_parcels WHERE year = 2025) * 100, 2) as percentage,\n",
    "    ROUND(AVG(just_value)::numeric, 2) as avg_value,\n",
    "    SUM(just_value) as total_value\n",
    "FROM florida_parcels\n",
    "WHERE year = 2025\n",
    "GROUP BY property_use_category\n",
    "ORDER BY count DESC\n",
    "\"\"\"\n",
    "\n",
    "category_dist = pd.read_sql(query, engine)\n",
    "print(\"\\n📊 PROPERTY USE CATEGORIES\")\n",
    "print(category_dist.to_string(index=False))"
   ]
  },
  {
   "cell_type": "code",
   "execution_count": null,
   "metadata": {},
   "outputs": [],
   "source": [
    "# Visualize categories\n",
    "fig, ax = plt.subplots(1, 2, figsize=(16, 6))\n",
    "\n",
    "# Filter out None/null categories\n",
    "category_clean = category_dist[category_dist['property_use_category'].notna()]\n",
    "\n",
    "# Pie chart\n",
    "colors = plt.cm.Set3(np.linspace(0, 1, len(category_clean)))\n",
    "ax[0].pie(category_clean['count'], labels=category_clean['property_use_category'],\n",
    "          colors=colors, autopct='%1.1f%%', startangle=90)\n",
    "ax[0].set_title('Properties by Category', fontsize=14, fontweight='bold')\n",
    "\n",
    "# Bar chart with values\n",
    "bars = ax[1].bar(range(len(category_clean)), category_clean['total_value'], color=colors)\n",
    "ax[1].set_xticks(range(len(category_clean)))\n",
    "ax[1].set_xticklabels(category_clean['property_use_category'], rotation=45, ha='right')\n",
    "ax[1].set_ylabel('Total Property Value ($)', fontsize=12)\n",
    "ax[1].set_title('Total Value by Category', fontsize=14, fontweight='bold')\n",
    "ax[1].ticklabel_format(style='plain', axis='y')\n",
    "\n",
    "plt.tight_layout()\n",
    "plt.show()"
   ]
  },
  {
   "cell_type": "markdown",
   "metadata": {},
   "source": [
    "## 4. County-Level Analysis"
   ]
  },
  {
   "cell_type": "code",
   "execution_count": null,
   "metadata": {},
   "outputs": [],
   "source": [
    "# Get county coverage\n",
    "query = \"\"\"\n",
    "SELECT\n",
    "    county,\n",
    "    COUNT(*) as total,\n",
    "    COUNT(CASE WHEN dor_uc IS NOT NULL AND dor_uc != '' THEN 1 END) as with_code,\n",
    "    COUNT(CASE WHEN dor_uc IS NULL OR dor_uc = '' THEN 1 END) as without_code,\n",
    "    ROUND(COUNT(CASE WHEN dor_uc IS NOT NULL AND dor_uc != '' THEN 1 END)::numeric / COUNT(*) * 100, 2) as coverage_pct\n",
    "FROM florida_parcels\n",
    "WHERE year = 2025\n",
    "GROUP BY county\n",
    "ORDER BY total DESC\n",
    "LIMIT 20\n",
    "\"\"\"\n",
    "\n",
    "county_coverage = pd.read_sql(query, engine)\n",
    "print(\"\\n📊 TOP 20 COUNTIES BY PROPERTY COUNT\")\n",
    "print(county_coverage.to_string(index=False))"
   ]
  },
  {
   "cell_type": "code",
   "execution_count": null,
   "metadata": {},
   "outputs": [],
   "source": [
    "# Visualize county coverage\n",
    "fig, ax = plt.subplots(figsize=(14, 8))\n",
    "\n",
    "x = range(len(county_coverage))\n",
    "ax.bar(x, county_coverage['coverage_pct'], color='#2196F3')\n",
    "ax.set_xticks(x)\n",
    "ax.set_xticklabels(county_coverage['county'], rotation=45, ha='right')\n",
    "ax.set_ylabel('Coverage Percentage', fontsize=12)\n",
    "ax.set_title('DOR Use Code Coverage by County (Top 20)', fontsize=14, fontweight='bold')\n",
    "ax.axhline(y=100, color='green', linestyle='--', label='100% Coverage')\n",
    "ax.axhline(y=80, color='orange', linestyle='--', label='80% Coverage')\n",
    "ax.legend()\n",
    "\n",
    "plt.tight_layout()\n",
    "plt.show()"
   ]
  },
  {
   "cell_type": "markdown",
   "metadata": {},
   "source": [
    "## 5. Value Analysis"
   ]
  },
  {
   "cell_type": "code",
   "execution_count": null,
   "metadata": {},
   "outputs": [],
   "source": [
    "# Get value statistics by use code\n",
    "query = \"\"\"\n",
    "SELECT\n",
    "    fp.dor_uc,\n",
    "    duc.use_description,\n",
    "    COUNT(*) as count,\n",
    "    ROUND(MIN(fp.just_value)::numeric, 2) as min_value,\n",
    "    ROUND(AVG(fp.just_value)::numeric, 2) as avg_value,\n",
    "    ROUND(MAX(fp.just_value)::numeric, 2) as max_value,\n",
    "    SUM(fp.just_value) as total_value\n",
    "FROM florida_parcels fp\n",
    "LEFT JOIN dor_use_codes duc ON fp.dor_uc = duc.use_code\n",
    "WHERE fp.year = 2025\n",
    "AND fp.dor_uc IS NOT NULL\n",
    "AND fp.dor_uc != ''\n",
    "AND fp.just_value > 0\n",
    "GROUP BY fp.dor_uc, duc.use_description\n",
    "ORDER BY total_value DESC\n",
    "LIMIT 20\n",
    "\"\"\"\n",
    "\n",
    "value_analysis = pd.read_sql(query, engine)\n",
    "print(\"\\n💰 VALUE ANALYSIS BY USE CODE (Top 20)\")\n",
    "print(value_analysis.to_string(index=False))"
   ]
  },
  {
   "cell_type": "code",
   "execution_count": null,
   "metadata": {},
   "outputs": [],
   "source": [
    "# Visualize average values\n",
    "fig, ax = plt.subplots(figsize=(14, 8))\n",
    "\n",
    "top_15 = value_analysis.head(15)\n",
    "colors = plt.cm.plasma(np.linspace(0, 1, len(top_15)))\n",
    "\n",
    "bars = ax.barh(range(len(top_15)), top_15['avg_value'], color=colors)\n",
    "ax.set_yticks(range(len(top_15)))\n",
    "ax.set_yticklabels([f\"{row['dor_uc']} - {row['use_description'][:25]}\" \n",
    "                     for _, row in top_15.iterrows()], fontsize=9)\n",
    "ax.set_xlabel('Average Property Value ($)', fontsize=12)\n",
    "ax.set_title('Average Property Value by Use Code', fontsize=14, fontweight='bold')\n",
    "ax.invert_yaxis()\n",
    "\n",
    "plt.tight_layout()\n",
    "plt.show()"
   ]
  },
  {
   "cell_type": "markdown",
   "metadata": {},
   "source": [
    "## 6. Quality Validation"
   ]
  },
  {
   "cell_type": "code",
   "execution_count": null,
   "metadata": {},
   "outputs": [],
   "source": [
    "# Check for invalid use codes\n",
    "query = \"\"\"\n",
    "SELECT DISTINCT fp.dor_uc\n",
    "FROM florida_parcels fp\n",
    "WHERE fp.year = 2025\n",
    "AND fp.dor_uc IS NOT NULL\n",
    "AND fp.dor_uc != ''\n",
    "AND NOT EXISTS (\n",
    "    SELECT 1 FROM dor_use_codes duc\n",
    "    WHERE duc.use_code = fp.dor_uc\n",
    ")\n",
    "ORDER BY fp.dor_uc\n",
    "\"\"\"\n",
    "\n",
    "invalid_codes = pd.read_sql(query, engine)\n",
    "print(\"\\n⚠️ INVALID USE CODES\")\n",
    "if len(invalid_codes) == 0:\n",
    "    print(\"✅ No invalid use codes found!\")\n",
    "else:\n",
    "    print(f\"❌ Found {len(invalid_codes)} invalid use codes:\")\n",
    "    print(invalid_codes.to_string(index=False))"
   ]
  },
  {
   "cell_type": "markdown",
   "metadata": {},
   "source": [
    "## 7. Summary Report"
   ]
  },
  {
   "cell_type": "code",
   "execution_count": null,
   "metadata": {},
   "outputs": [],
   "source": [
    "# Generate final summary report\n",
    "print(\"\\n\" + \"=\" * 80)\n",
    "print(\"📋 DOR USE CODE ASSIGNMENT SUMMARY REPORT\")\n",
    "print(\"=\" * 80)\n",
    "print(f\"\\nGenerated: {datetime.now().strftime('%Y-%m-%d %H:%M:%S')}\")\n",
    "print(f\"\\n1. OVERALL STATUS:\")\n",
    "print(f\"   Total Properties: {overall_stats['total_properties'].iloc[0]:,}\")\n",
    "print(f\"   Coverage: {overall_stats['coverage_pct'].iloc[0]:.2f}%\")\n",
    "print(f\"   Remaining: {overall_stats['without_code'].iloc[0]:,}\")\n",
    "\n",
    "print(f\"\\n2. USE CODE DIVERSITY:\")\n",
    "print(f\"   Unique Use Codes: {len(use_code_dist)}\")\n",
    "print(f\"   Most Common: {use_code_dist.iloc[0]['dor_uc']} - {use_code_dist.iloc[0]['use_description']}\")\n",
    "print(f\"   Properties in Top Code: {use_code_dist.iloc[0]['count']:,}\")\n",
    "\n",
    "print(f\"\\n3. CATEGORIES:\")\n",
    "for _, row in category_clean.iterrows():\n",
    "    print(f\"   {row['property_use_category']}: {row['count']:,} ({row['percentage']:.1f}%)\")\n",
    "\n",
    "print(f\"\\n4. DATA QUALITY:\")\n",
    "print(f\"   Invalid Codes: {len(invalid_codes)}\")\n",
    "print(f\"   Quality Status: {'✅ PASS' if len(invalid_codes) == 0 else '⚠️ NEEDS ATTENTION'}\")\n",
    "\n",
    "print(\"\\n\" + \"=\" * 80)\n",
    "print(\"✅ Analysis Complete\")\n",
    "print(\"=\" * 80)"
   ]
  },
  {
   "cell_type": "markdown",
   "metadata": {},
   "source": [
    "## 8. Export Results"
   ]
  },
  {
   "cell_type": "code",
   "execution_count": null,
   "metadata": {},
   "outputs": [],
   "source": [
    "# Export data to CSV files\n",
    "timestamp = datetime.now().strftime('%Y%m%d_%H%M%S')\n",
    "\n",
    "use_code_dist.to_csv(f'dor_use_code_distribution_{timestamp}.csv', index=False)\n",
    "category_dist.to_csv(f'dor_category_distribution_{timestamp}.csv', index=False)\n",
    "county_coverage.to_csv(f'dor_county_coverage_{timestamp}.csv', index=False)\n",
    "value_analysis.to_csv(f'dor_value_analysis_{timestamp}.csv', index=False)\n",
    "\n",
    "print(f\"✅ Results exported with timestamp: {timestamp}\")"
   ]
  }
 ],
 "metadata": {
  "kernelspec": {
   "display_name": "Python 3",
   "language": "python",
   "name": "python3"
  },
  "language_info": {
   "codemirror_mode": {
    "name": "ipython",
    "version": 3
   },
   "file_extension": ".py",
   "mimetype": "text/x-python",
   "name": "python",
   "nbconvert_exporter": "python",
   "pygments_lexer": "ipython3",
   "version": "3.12.0"
  }
 },
 "nbformat": 4,
 "nbformat_minor": 4
}